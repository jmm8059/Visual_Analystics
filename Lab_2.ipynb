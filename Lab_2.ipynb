{
  "nbformat": 4,
  "nbformat_minor": 0,
  "metadata": {
    "colab": {
      "name": "Lab 2",
      "provenance": [],
      "collapsed_sections": [],
      "include_colab_link": true
    },
    "kernelspec": {
      "name": "python3",
      "display_name": "Python 3"
    }
  },
  "cells": [
    {
      "cell_type": "markdown",
      "metadata": {
        "id": "view-in-github",
        "colab_type": "text"
      },
      "source": [
        "<a href=\"https://colab.research.google.com/github/jmm8059/Visual_Analystics/blob/master/Lab_2.ipynb\" target=\"_parent\"><img src=\"https://colab.research.google.com/assets/colab-badge.svg\" alt=\"Open In Colab\"/></a>"
      ]
    },
    {
      "cell_type": "markdown",
      "metadata": {
        "id": "v-sDGBTfngAG",
        "colab_type": "text"
      },
      "source": [
        "# Lab 2 --- Jonathan Mirchandani"
      ]
    },
    {
      "cell_type": "markdown",
      "metadata": {
        "id": "q-QgUBoLiFtO",
        "colab_type": "text"
      },
      "source": [
        "# Correlation"
      ]
    },
    {
      "cell_type": "markdown",
      "metadata": {
        "id": "1snDKP2KU5om",
        "colab_type": "text"
      },
      "source": [
        "![alt text](https://raw.githubusercontent.com/blakehawkins26/SRA268/master/images/Screen%20Shot%202020-02-20%20at%2010.50.23%20AM.png)"
      ]
    },
    {
      "cell_type": "markdown",
      "metadata": {
        "id": "xK70n4_uiynR",
        "colab_type": "text"
      },
      "source": [
        "The graph above demonstrates a correlation illustrated by a bubble graph. This graph shows how many total points the common name of specific team’s mascots scored together. A good example is you can see that a bunch of teams share the common mascot of a human due to the size of the bubble, and they also make the tournament more often. The darkness and size of the bubble directly represents the amount of points scored for the bubble. The unlabeled bubble is for common names that are not large enough data points to be represented in tableau. We can conclude from this lots of teams have human and wildcat mascots, therefore they all in total score more points."
      ]
    },
    {
      "cell_type": "markdown",
      "metadata": {
        "id": "OI-zFlxwh_gR",
        "colab_type": "text"
      },
      "source": [
        "# Ranking"
      ]
    },
    {
      "cell_type": "markdown",
      "metadata": {
        "id": "GiJMOjYvVQ0C",
        "colab_type": "text"
      },
      "source": [
        "![alt text](https://raw.githubusercontent.com/blakehawkins26/SRA268/master/images/Screen%20Shot%202020-02-20%20at%2011.26.38%20AM.png)"
      ]
    },
    {
      "cell_type": "markdown",
      "metadata": {
        "id": "V-247518iz7Z",
        "colab_type": "text"
      },
      "source": [
        "This graph demonstrates ranking by illustrating a bar graph. The graph itself show the average winning points scored on a specific day of the week. The key attribute that makes this graph a ranking graph is that it is ordered from least to greatest. Overall there was not too much of a difference thought the week in terms of average winning points. The biggest difference was on Wednesday where they average was lower, this could be due to teams being tired in the middle of the week or they really just don’t like Wednesdays. The coloring helps illuminate this difference by making Wednesday the lightest color in the blue color scheme."
      ]
    },
    {
      "cell_type": "markdown",
      "metadata": {
        "id": "KyK8GoGqh6PJ",
        "colab_type": "text"
      },
      "source": [
        "# Part - to - Whole"
      ]
    },
    {
      "cell_type": "markdown",
      "metadata": {
        "id": "YHeDMMHeTPsW",
        "colab_type": "text"
      },
      "source": [
        "![alt text](https://raw.githubusercontent.com/blakehawkins26/SRA268/master/images/Screen%20Shot%202020-02-20%20at%2010.51.19%20AM.png)"
      ]
    },
    {
      "cell_type": "markdown",
      "metadata": {
        "id": "YvXLpBnbjRAX",
        "colab_type": "text"
      },
      "source": [
        "This graph demonstrates part – to – whole by illustrating a treemap. This treemap shows the winning class’s species over the academic years. Essentially this graph shows what animal species has been winning the most. Mammallia and Aves, or better known as bird and mammals, easily win the most out of any species. This data definitely proves that mammals and birds are the most demonstrated animals in the tournament every single year. A species with not a lot of representation is inecta, or better known as insects. This treemap does a great job of demonstrating what species commonly represent the tournament every single year."
      ]
    },
    {
      "cell_type": "markdown",
      "metadata": {
        "id": "Thuv2gwUhnm4",
        "colab_type": "text"
      },
      "source": [
        "# Deviation"
      ]
    },
    {
      "cell_type": "markdown",
      "metadata": {
        "id": "legrBIwqYPCt",
        "colab_type": "text"
      },
      "source": [
        "![alt text](https://raw.githubusercontent.com/jmm8059/Visual_Analystics/master/images/Spine%20Graph%20v2.png)"
      ]
    },
    {
      "cell_type": "markdown",
      "metadata": {
        "id": "pnmvbSWZd4su",
        "colab_type": "text"
      },
      "source": [
        "This graph is a deviation graph meant to be illustrated by a spine graph design. This graph allows the reader to see a direct comparison for any winning team that starts with the letter D. The comparison being made here is the average winning points and the average winning seed. The red and blue colors allow the reader of the graph to visually determine the difference in the data. Someone reading this graph is meant to be able to determine the direct comparisons between the winning seed and the winning points. This could allow people like gamblers more data to make their bets on. The graph itself demonstrates there is not a huge consistent relationship between the variables, but the seed will fluctuate from time to time."
      ]
    },
    {
      "cell_type": "markdown",
      "metadata": {
        "id": "Pbj7dvgQhgRe",
        "colab_type": "text"
      },
      "source": [
        "# Change Over Time "
      ]
    },
    {
      "cell_type": "markdown",
      "metadata": {
        "id": "l8gSAEcJXcxw",
        "colab_type": "text"
      },
      "source": [
        "![Change Over Time](https://raw.githubusercontent.com/nlm30/SRA-268/master/Change%20over%20time.png)"
      ]
    },
    {
      "cell_type": "markdown",
      "metadata": {
        "id": "i13XzTomgjHk",
        "colab_type": "text"
      },
      "source": [
        "This graph demonstrates change over time by illustrating a bar graph. The graph is made up of total points in the y axis and date in the x axis.  The dates range from 1985 until 2017. The other large aspect of this graph is the color. The color actually shows the magnitude of the scores themselves. For example, the darker the bar on the bar graph is the higher the score will be. There is a trend that repeats every few years of the score rising and falling. This trend actually demonstrates the constant struggle of basketball, following trends of tough defense and hot offense."
      ]
    },
    {
      "cell_type": "markdown",
      "metadata": {
        "id": "kEicUNlxhQ9c",
        "colab_type": "text"
      },
      "source": [
        "# Magnitude"
      ]
    },
    {
      "cell_type": "markdown",
      "metadata": {
        "id": "41zjzzfNYvaG",
        "colab_type": "text"
      },
      "source": [
        "![alt text](https://raw.githubusercontent.com/jmm8059/Visual_Analystics/master/images/Lolipop%20Graph.png)"
      ]
    },
    {
      "cell_type": "markdown",
      "metadata": {
        "id": "jTde13COqPS_",
        "colab_type": "text"
      },
      "source": [
        "This magnitude graph is demonstrated by a lollipop graph design. This graph allows the reader to focus in on the magnitude at the end of the graph in the form of a lollipop. This graph in particular is focused on the average highest winning seed by the year it happened. The data itself in this graph shows that the average winning seed in March Madness usually can be around the 5th seed. However, we do have one outlier year that shows the data can be influenced by high ranking teams all doing extremely well. This shows us the most consistent teams you can pick to win are usually higher seeded."
      ]
    },
    {
      "cell_type": "markdown",
      "metadata": {
        "id": "DlsbGt3xhaSz",
        "colab_type": "text"
      },
      "source": [
        "# Distribution"
      ]
    },
    {
      "cell_type": "markdown",
      "metadata": {
        "id": "GMJb55tZXijm",
        "colab_type": "text"
      },
      "source": [
        "![alt text](https://raw.githubusercontent.com/nlm30/SRA-268/master/Distribution.png)"
      ]
    },
    {
      "cell_type": "markdown",
      "metadata": {
        "id": "8fzY_A9wRKe9",
        "colab_type": "text"
      },
      "source": [
        "This graph demonstrates distribution by using a bar graph. The bar graph itself shows the distribution of all winning point totals. Every single bar on this bar graph represents a “bin”. A bin is a range of values on the graph. The higher bars indicate a more common score within that certain bin. The main purpose of this graph is to demonstrate what a winning score looks like. In order to win a basketball game in march madness, you will usually need to score somewhere in the range of 65-85 points. There is an outlier in this graph with a score that is greater than 140, it is best to ignore that result to inperpret the graph."
      ]
    },
    {
      "cell_type": "code",
      "metadata": {
        "id": "vT1CnMhiRRzl",
        "colab_type": "code",
        "colab": {}
      },
      "source": [
        ""
      ],
      "execution_count": 0,
      "outputs": []
    }
  ]
}