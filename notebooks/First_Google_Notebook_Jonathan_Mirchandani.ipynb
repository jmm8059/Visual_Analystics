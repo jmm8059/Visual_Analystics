{
  "nbformat": 4,
  "nbformat_minor": 0,
  "metadata": {
    "colab": {
      "name": "First Google Notebook Jonathan Mirchandani",
      "provenance": []
    },
    "kernelspec": {
      "name": "python3",
      "display_name": "Python 3"
    }
  },
  "cells": [
    {
      "cell_type": "markdown",
      "metadata": {
        "id": "QfVXuIqS9C3n",
        "colab_type": "text"
      },
      "source": [
        "### **How hot can it get in January?**"
      ]
    },
    {
      "cell_type": "markdown",
      "metadata": {
        "id": "-rQY6pP39Wec",
        "colab_type": "text"
      },
      "source": [
        "### The purpose of this graph is to figure out how much the temperature can rise in the month of January. This will allow us to analyze what activities should be done in this month. We can also analyze how many days of tis month are at risk of a potential snow day, allowing us to prepare and properly allocate resources in case of such an event."
      ]
    },
    {
      "cell_type": "markdown",
      "metadata": {
        "id": "hOI5nRNWaXcw",
        "colab_type": "text"
      },
      "source": [
        "![alt text](https://raw.githubusercontent.com/jmm8059/Visual_Analystics/master/images/graph.png)"
      ]
    },
    {
      "cell_type": "markdown",
      "metadata": {
        "id": "UDbZaEBFYCT5",
        "colab_type": "text"
      },
      "source": [
        "###This graph shows us that mostly the temperature of January can be extremely inconsistent. January starts at around 50 degrees and can drop all the way to around 20 degrees. This means the town of state college must be ready for any possible weather in January. All snow clearing assets must be ready to go on any day in case of severe weather"
      ]
    }
  ]
}